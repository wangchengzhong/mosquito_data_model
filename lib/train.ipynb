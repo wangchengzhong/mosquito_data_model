{
 "cells": [
  {
   "cell_type": "code",
   "execution_count": 1,
   "metadata": {},
   "outputs": [
    {
     "name": "stderr",
     "output_type": "stream",
     "text": [
      "D:\\anaconda_setup\\lib\\site-packages\\numpy\\_distributor_init.py:32: UserWarning: loaded more than 1 DLL from .libs:\n",
      "D:\\anaconda_setup\\lib\\site-packages\\numpy\\.libs\\libopenblas.GK7GX5KEQ4F6UYO3P26ULGBQYHGQO7J4.gfortran-win_amd64.dll\n",
      "D:\\anaconda_setup\\lib\\site-packages\\numpy\\.libs\\libopenblas.NOIJJG62EMASZI6NYURL6JBKM4EVBGM7.gfortran-win_amd64.dll\n",
      "  stacklevel=1)\n"
     ]
    }
   ],
   "source": [
    "import os\n",
    "import pandas as pd\n",
    "import sys\n",
    "sys.path.insert(0, os.path.abspath('../lib'))\n",
    "import config\n",
    "import numpy as np\n",
    "import IPython.display as ipd\n",
    "\n",
    "\n",
    "from tensorflow import keras\n",
    "from Keras.runKeras import train_model, load_model, evaluate_model\n",
    "\n",
    "from feat_util import get_train_test_from_df\n"
   ]
  },
  {
   "cell_type": "code",
   "execution_count": 2,
   "metadata": {},
   "outputs": [
    {
     "name": "stdout",
     "output_type": "stream",
     "text": [
      "Loading training features found at: ..\\outputs\\features\\MED\\log_mel_feat_train_128_win_30_step_5_norm_True.pickle\n"
     ]
    }
   ],
   "source": [
    "X_train, y_train = get_train_test_from_df()"
   ]
  },
  {
   "cell_type": "code",
   "execution_count": 3,
   "metadata": {
    "scrolled": false
   },
   "outputs": [
    {
     "name": "stdout",
     "output_type": "stream",
     "text": [
      "Epoch 1/10\n",
      "475/475 [==============================] - 17s 33ms/step - loss: 0.6325 - accuracy: 0.6127\n",
      "Epoch 2/10\n",
      "475/475 [==============================] - 15s 31ms/step - loss: 0.2580 - accuracy: 0.9409\n",
      "Epoch 3/10\n",
      "475/475 [==============================] - 15s 31ms/step - loss: 0.1041 - accuracy: 0.9769\n",
      "Epoch 4/10\n",
      "475/475 [==============================] - 15s 32ms/step - loss: 0.0597 - accuracy: 0.9848\n",
      "Epoch 5/10\n",
      "475/475 [==============================] - 15s 31ms/step - loss: 0.0397 - accuracy: 0.9902\n",
      "Epoch 6/10\n",
      "475/475 [==============================] - 15s 31ms/step - loss: 0.0278 - accuracy: 0.9923\n",
      "Epoch 7/10\n",
      "475/475 [==============================] - 15s 31ms/step - loss: 0.0207 - accuracy: 0.9947\n",
      "Epoch 8/10\n",
      "475/475 [==============================] - 15s 31ms/step - loss: 0.0167 - accuracy: 0.9958\n",
      "Epoch 9/10\n",
      "475/475 [==============================] - 15s 32ms/step - loss: 0.0137 - accuracy: 0.9968\n",
      "Epoch 10/10\n",
      "475/475 [==============================] - 15s 32ms/step - loss: 0.0123 - accuracy: 0.9968\n"
     ]
    }
   ],
   "source": [
    "# for Keras, the function call is of form train_model(X_train, y_train, X_val=None, y_val=None)\n",
    "model_list = train_model(X_train, y_train)#, X_val, y_val)"
   ]
  },
  {
   "cell_type": "code",
   "execution_count": null,
   "metadata": {},
   "outputs": [],
   "source": []
  }
 ],
 "metadata": {
  "interpreter": {
   "hash": "670001dd422a8ae12b0fb544d38637cfbe540e51e6ebc75481b5390b3594d462"
  },
  "kernelspec": {
   "display_name": "Python 3.7.4 64-bit ('base': conda)",
   "name": "python3"
  },
  "language_info": {
   "codemirror_mode": {
    "name": "ipython",
    "version": 3
   },
   "file_extension": ".py",
   "mimetype": "text/x-python",
   "name": "python",
   "nbconvert_exporter": "python",
   "pygments_lexer": "ipython3",
   "version": "3.7.4"
  }
 },
 "nbformat": 4,
 "nbformat_minor": 4
}
